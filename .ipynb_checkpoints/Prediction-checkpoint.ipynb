{
 "cells": [
  {
   "cell_type": "markdown",
   "id": "b3791936-6504-46cf-aa33-11bb9246bef9",
   "metadata": {},
   "source": [
    "# Students performance in elearning courses"
   ]
  },
  {
   "cell_type": "markdown",
   "id": "d05f53d9-5427-4ad1-ac16-909e4cd52ed3",
   "metadata": {},
   "source": [
    "## Importing Libraries"
   ]
  },
  {
   "cell_type": "code",
   "execution_count": null,
   "id": "9dad00c4-64fb-4972-a289-346e8cd0b6fa",
   "metadata": {},
   "outputs": [],
   "source": [
    "import pandas as pd\n",
    "import seaborn as sns\n",
    "import numpy as np\n",
    "import matplotlib.pyplot as plt\n",
    "from tensorflow import keras\n",
    "from tensorflow.keras import layers\n",
    "import category_encoders as ce"
   ]
  },
  {
   "cell_type": "markdown",
   "id": "e12cb5b9-ea2f-49ed-9c47-7d4e44039348",
   "metadata": {},
   "source": [
    "## Uploading Dataset"
   ]
  },
  {
   "cell_type": "code",
   "execution_count": null,
   "id": "f848881c-ce2e-4ca3-9409-aa83c3716e73",
   "metadata": {},
   "outputs": [],
   "source": [
    "viewData = pd.read_csv('elearn.csv')"
   ]
  },
  {
   "cell_type": "code",
   "execution_count": null,
   "id": "487c41c0-e0db-4f71-bff0-2dca6a34f34f",
   "metadata": {},
   "outputs": [],
   "source": [
    "viewData"
   ]
  },
  {
   "cell_type": "code",
   "execution_count": null,
   "id": "6b00040b-7431-42f6-8f8b-d31f9d189b91",
   "metadata": {},
   "outputs": [],
   "source": [
    "# Dropping null values\n",
    "viewData=viewData.dropna(axis=0)"
   ]
  },
  {
   "cell_type": "markdown",
   "id": "a327bc3a-1080-4016-af6d-30fe545ccd60",
   "metadata": {},
   "source": [
    "## Encoding Values"
   ]
  },
  {
   "cell_type": "code",
   "execution_count": null,
   "id": "d54dd8ae-d40d-4b69-b8fd-1c037fc5e207",
   "metadata": {},
   "outputs": [],
   "source": [
    "# showing target values\n",
    "viewData['Your cumulative average (GPA)'].unique()"
   ]
  },
  {
   "cell_type": "code",
   "execution_count": null,
   "id": "eee55c87-4dd9-4275-a81b-82069cb02c54",
   "metadata": {},
   "outputs": [],
   "source": [
    "# OrdinalEncoder function maps every string data to its equivalent numeric data for easy analysis\n",
    "encoder = ce.OrdinalEncoder(cols=['Your cumulative average (GPA)'],return_df=True,\n",
    "                           mapping=[{'col':'Your cumulative average (GPA)',\n",
    "'mapping':{'Below 60 / Below 2.0':0,'60-69 / 2-2.49':1,'60-69 / 2-2.9':1, '70-79 / 2.5-299':2, '80-89 / 3-3.49':3,'+90 / +3.5':4, '60-69':1, '80-89':3, '+90':4,\n",
    "       '70-79':2, 'Below 60':0}}])"
   ]
  },
  {
   "cell_type": "code",
   "execution_count": null,
   "id": "18641e36-db36-4e4d-94a4-cc7af6948124",
   "metadata": {},
   "outputs": [],
   "source": [
    "# replaces the data with encoded values\n",
    "viewData = encoder.fit_transform(viewData)"
   ]
  },
  {
   "cell_type": "code",
   "execution_count": null,
   "id": "39936422-292c-4fe3-9350-b96d6c0ca722",
   "metadata": {},
   "outputs": [],
   "source": [
    "viewData['Gender'].unique()"
   ]
  },
  {
   "cell_type": "code",
   "execution_count": null,
   "id": "8b048f82-539f-4670-a66b-aaf1e0d4f14d",
   "metadata": {},
   "outputs": [],
   "source": [
    "# deleting column Gender and creating it a new column 'Male or not'\n",
    "viewData['Male'] = viewData['Gender'].map({'Male':1, 'Female':0})\n",
    "viewData = viewData.drop(['Gender'], axis=1)"
   ]
  },
  {
   "cell_type": "code",
   "execution_count": null,
   "id": "44c89aec-c1fb-41a9-919f-5b041a9b9c49",
   "metadata": {},
   "outputs": [],
   "source": [
    "viewData['Level/Year'].unique()"
   ]
  },
  {
   "cell_type": "code",
   "execution_count": null,
   "id": "7f0134c5-c764-4fad-a529-98d33cd668b8",
   "metadata": {},
   "outputs": [],
   "source": [
    "# correcting field values of 'Level/Year'\n",
    "roles={'Fourth':'Fourth/Senior', 'Third':'Third/Junior', 'Second':'Second/ Sophomore', 'First':'First/Freshman'}\n",
    "viewData = viewData.replace(roles)"
   ]
  },
  {
   "cell_type": "code",
   "execution_count": null,
   "id": "fffaaac9-391a-4253-a598-6f417c7291fe",
   "metadata": {},
   "outputs": [],
   "source": [
    "# creating dummy fields/columns of above\n",
    "dummy = pd.get_dummies(data=viewData['Level/Year'])"
   ]
  },
  {
   "cell_type": "code",
   "execution_count": null,
   "id": "37cdf8c1-31a8-440a-a35d-a5daff183034",
   "metadata": {},
   "outputs": [],
   "source": [
    "# removing duplicate values and deleting the original column\n",
    "viewData = pd.concat([viewData, dummy], axis=1)\n",
    "viewData = viewData.drop(['Level/Year'], axis=1)"
   ]
  },
  {
   "cell_type": "code",
   "execution_count": null,
   "id": "06c9ba14-c4c4-459c-864e-12a72fc6f878",
   "metadata": {},
   "outputs": [],
   "source": [
    "viewData['Age'].unique()"
   ]
  },
  {
   "cell_type": "code",
   "execution_count": null,
   "id": "372b4951-e8e9-486c-baf7-2921df0bc257",
   "metadata": {},
   "outputs": [],
   "source": [
    "# creating dummy fields of column 'Age' and deleting the original column \n",
    "ageDummy = pd.get_dummies(data=viewData['Age'])\n",
    "viewData = pd.concat([viewData, ageDummy], axis=1)\n",
    "viewData = viewData.drop(['Age'], axis=1)"
   ]
  },
  {
   "cell_type": "code",
   "execution_count": null,
   "id": "edc34acf-cac5-4a5c-bf52-9955adbfe684",
   "metadata": {},
   "outputs": [],
   "source": [
    "viewData['Before COVID-19: Which of the following digital tools do you usually use?'].unique()"
   ]
  },
  {
   "cell_type": "code",
   "execution_count": null,
   "id": "59666105-bd0a-4f07-a49b-13a1e58d01a6",
   "metadata": {},
   "outputs": [],
   "source": [
    "# creating dummy fields of column mentioned below in integer type and deleting the original column\n",
    "beforeDummy = pd.get_dummies(data=viewData['Before COVID-19: Which of the following digital tools do you usually use?'], prefix='before').astype(int)\n",
    "viewData = pd.concat([viewData, beforeDummy], axis=1)\n",
    "viewData = viewData.drop('Before COVID-19: Which of the following digital tools do you usually use?', axis=1)"
   ]
  },
  {
   "cell_type": "code",
   "execution_count": null,
   "id": "b287a3b4-db1e-4a60-850e-eb892ddd8081",
   "metadata": {},
   "outputs": [],
   "source": [
    "# creating dummy fields of column mentioned below in integer type and deleting the original column\n",
    "afterDummy = pd.get_dummies(data=viewData['After COVID-19: Which of the following digital tools do you usually use?'], prefix='after').astype(int)\n",
    "viewData = pd.concat([viewData, afterDummy], axis=1)\n",
    "viewData = viewData.drop(['After COVID-19: Which of the following digital tools do you usually use?'], axis=1)"
   ]
  },
  {
   "cell_type": "code",
   "execution_count": null,
   "id": "a50d075e-9077-4ad0-a935-2d37e8ff9140",
   "metadata": {},
   "outputs": [],
   "source": [
    "viewData"
   ]
  },
  {
   "cell_type": "code",
   "execution_count": null,
   "id": "b5a1ba0e-15c8-4b10-b67d-4adcc45eeba3",
   "metadata": {},
   "outputs": [],
   "source": [
    "viewData['Before COVID-19: How much time do you spend using the digital tools in learning?'].unique()"
   ]
  },
  {
   "cell_type": "code",
   "execution_count": null,
   "id": "5bbf7bd6-e928-42a5-ab9e-215733a92c74",
   "metadata": {},
   "outputs": [],
   "source": [
    "viewData['The distance learning system, caused by the COVID-19 epidemic, resulted in social distancing.'].unique()"
   ]
  },
  {
   "cell_type": "code",
   "execution_count": null,
   "id": "af319337-f12b-4e3a-83b3-5081e724a613",
   "metadata": {},
   "outputs": [],
   "source": [
    "# taking all possible opinion values in opinval and time spent values in timeval\n",
    "opinval = {'Strongly Disagree':0, 'Disagree':1, 'Uncertain\\t':2, 'Agree\\t':3, 'Strongly Agree':4, 'Agree':3, 'Uncertain':2, 'Strongly agree':4,'Strongly disagree':0 }\n",
    "timeval = {'3-6':1, '6-9':2, '9-12':3, '+12':4, '1-3':0, '1-3 ':0}"
   ]
  },
  {
   "cell_type": "code",
   "execution_count": null,
   "id": "f17cdee4-7463-47ff-b02a-91de6b83c3c2",
   "metadata": {},
   "outputs": [],
   "source": [
    "# replacing all the opinion values and time spent in data storing variable 'viewData'\n",
    "viewData = viewData.replace(opinval)\n",
    "viewData = viewData.replace(timeval)"
   ]
  },
  {
   "cell_type": "code",
   "execution_count": null,
   "id": "8d62b7ea-e79e-4fe7-b5a0-f5c767ecbafd",
   "metadata": {},
   "outputs": [],
   "source": [
    "# removing all null values and displaying data\n",
    "viewData=viewData.dropna(axis=0)\n",
    "viewData.head()"
   ]
  },
  {
   "cell_type": "markdown",
   "id": "099d01ce-b3d9-4f9a-a340-f57a27ed4b25",
   "metadata": {},
   "source": [
    "# Data Analysis"
   ]
  },
  {
   "cell_type": "code",
   "execution_count": null,
   "id": "664b52d1-5dbd-4a1e-8919-8f5253bb5ddf",
   "metadata": {},
   "outputs": [],
   "source": [
    "plt.figure(figsize=(15, 15))\n",
    "grouped_data = viewData['Before COVID-19: How much time do you spend using the digital tools in learning?'].value_counts()\n",
    "grouped_data.plot(kind='pie', autopct='%1.1f%%', startangle=90, title='Before COVID-19: Time spent using digital tools in learning')\n",
    "plt.axis('equal')\n",
    "plt.legend(labels=grouped_data.index, loc='best')\n",
    "plt.show()"
   ]
  },
  {
   "cell_type": "code",
   "execution_count": null,
   "id": "a721c82f-a658-477c-9433-866f801f5fac",
   "metadata": {},
   "outputs": [],
   "source": [
    "plt.figure(figsize=(8, 8))\n",
    "grouped_data = viewData['After COVID-19: How much time do you spend using the digital tools in learning?'].value_counts()\n",
    "grouped_data.plot(kind='pie', autopct='%1.1f%%', startangle=90, title='After COVID-19: Time spent using digital tools in learning')\n",
    "plt.axis('equal')\n",
    "plt.legend(labels=grouped_data.index, loc='best')\n",
    "plt.show()"
   ]
  },
  {
   "cell_type": "markdown",
   "id": "929b428a-98f3-4898-8516-0c5f66156aab",
   "metadata": {},
   "source": [
    "## Kernel Density Estimation (KDE)"
   ]
  },
  {
   "cell_type": "code",
   "execution_count": null,
   "id": "21374c9a-170e-4e76-8602-e0e7070e5e6d",
   "metadata": {},
   "outputs": [],
   "source": [
    "testview = viewData"
   ]
  },
  {
   "cell_type": "code",
   "execution_count": null,
   "id": "2412ff3b-100b-4813-b419-8394c26da4bd",
   "metadata": {},
   "outputs": [],
   "source": [
    "fig = plt.figure(figsize=[15,5])\n",
    "plt.tight_layout()\n",
    "for i in range(2):\n",
    "    fig.add_subplot(1,  2, i+1)\n",
    "    sns.kdeplot(data=testview,x=testview.columns[i+1],hue='Your cumulative average (GPA)')\n",
    "    if i == 16:\n",
    "        plt.xlim([-50,300])\n",
    "    sns.despine()"
   ]
  },
  {
   "cell_type": "code",
   "execution_count": null,
   "id": "013b70bd-9cc6-45a2-94e6-3db828b1e894",
   "metadata": {},
   "outputs": [],
   "source": [
    "# Create a custom color palette\n",
    "custom_palette = sns.color_palette(['red', 'blue', 'green', 'purple', 'orange'])\n",
    "\n",
    "# Assuming 'Your cumulative average (GPA)' has discrete values for different categories\n",
    "plt.figure(figsize=(10, 10))\n",
    "\n",
    "# Assign 'Your cumulative average (GPA)' to both x and hue, and set legend=False\n",
    "gplot = sns.countplot(data=testview, x='Your cumulative average (GPA)', hue='Your cumulative average (GPA)', palette=custom_palette, legend=False)\n",
    "\n",
    "# Annotate the plot\n",
    "for p in gplot.patches:\n",
    "    gplot.annotate(format(p.get_height(), '.1f'),\n",
    "                   (p.get_x() + p.get_width() / 2., p.get_height()),\n",
    "                   ha='center', va='center',\n",
    "                   xytext=(0, 9),\n",
    "                   textcoords='offset points')\n",
    "\n",
    "plt.show()"
   ]
  },
  {
   "cell_type": "markdown",
   "id": "eda1a5fe-66b8-4632-843d-c8ea958b69fc",
   "metadata": {},
   "source": [
    "## Dropping certain columns"
   ]
  },
  {
   "cell_type": "code",
   "execution_count": null,
   "id": "dea4936e-2a4a-4093-a234-622ae44ab274",
   "metadata": {},
   "outputs": [],
   "source": [
    "# Based on the correaltion coefficients.\n",
    "# Closer the value to 0, lesser effect it is having on the target value.\n",
    "# This is done is order to prevent overfitting.\n",
    "viewData = viewData.drop(['after_Laptop', 'Third/Junior'], axis=1)"
   ]
  },
  {
   "cell_type": "code",
   "execution_count": null,
   "id": "bb3178fb-d1cd-4e4b-987b-68f4d53be586",
   "metadata": {},
   "outputs": [],
   "source": [
    "viewData = viewData.dropna(axis=0)\n",
    "viewData"
   ]
  },
  {
   "cell_type": "markdown",
   "id": "1111da6f-28e6-434a-8cfc-5634aa0a80b8",
   "metadata": {},
   "source": [
    "## Correlation Coefficient / Regression Data"
   ]
  },
  {
   "cell_type": "code",
   "execution_count": null,
   "id": "591d7c99-553d-41ad-99e1-72db16a1045a",
   "metadata": {},
   "outputs": [],
   "source": [
    "# viewDataCorr is your correlation matrix\n",
    "viewDataCorr = viewData.corr()\n",
    "\n",
    "# Get the top 10 correlations with GPA\n",
    "top_corr_features = viewDataCorr.nlargest(10, 'Your cumulative average (GPA)').index\n",
    "\n",
    "# Extract the top 10 correlation matrix\n",
    "top_corr = viewData[top_corr_features].corr()\n",
    "\n",
    "# Create a heatmap\n",
    "plt.figure(figsize=(10, 8))\n",
    "sns.heatmap(top_corr, annot=True, cmap='coolwarm', fmt='.2f', linewidths=0.5)\n",
    "plt.title('Top 10 Correlations with GPA')\n",
    "plt.show()"
   ]
  },
  {
   "cell_type": "code",
   "execution_count": null,
   "id": "c3c2bd67-bc17-4486-998b-72c6bcc24dcf",
   "metadata": {},
   "outputs": [],
   "source": [
    "# viewDataCorr is your correlation matrix\n",
    "viewDataCorr = viewData.corr()\n",
    "\n",
    "# Get the top 20 correlations with GPA\n",
    "top_corr_features = viewDataCorr.nlargest(20, 'Your cumulative average (GPA)').index\n",
    "\n",
    "# Extract the top 10 correlation matrix\n",
    "top_corr = viewData[top_corr_features].corr()\n",
    "\n",
    "# Create a heatmap\n",
    "plt.figure(figsize=(12, 10))\n",
    "sns.heatmap(top_corr, annot=True, cmap='coolwarm', fmt='.2f', linewidths=0.5)\n",
    "plt.title('Top 20 Correlations with GPA')\n",
    "plt.show()"
   ]
  },
  {
   "cell_type": "markdown",
   "id": "75d84d46-6a8c-4b13-ad0f-bc06477be495",
   "metadata": {},
   "source": [
    "## Test and Train Data"
   ]
  },
  {
   "cell_type": "code",
   "execution_count": null,
   "id": "75e120db-2a0c-488f-967a-e49db157fdb0",
   "metadata": {},
   "outputs": [],
   "source": [
    "# Removing CGPA scores of the less than 60 or '0' as there are only 4 rows\n",
    "testData = viewData[viewData['Your cumulative average (GPA)']>0]\n",
    "testData"
   ]
  },
  {
   "cell_type": "code",
   "execution_count": null,
   "id": "5566240f-dfb3-44de-87e9-8dad20c5fee7",
   "metadata": {},
   "outputs": [],
   "source": [
    "# Dividing the datset into parameters columns (X) and target value (y)\n",
    "X=testData.iloc[:, 1:]\n",
    "y=testData.iloc[:, [0]]"
   ]
  },
  {
   "cell_type": "code",
   "execution_count": null,
   "id": "83c219cb-60fa-4698-9700-54bab6e30389",
   "metadata": {},
   "outputs": [],
   "source": [
    "# Applying SMOTE to get rid of class imbalance\n",
    "from imblearn.over_sampling import SMOTE\n",
    "\n",
    "\n",
    "oversample = SMOTE()\n",
    "X, y = oversample.fit_resample(X, y) # X is your feature matrix and y is your target variable"
   ]
  },
  {
   "cell_type": "code",
   "execution_count": null,
   "id": "506de4a9-e63e-4ff6-ad2b-967d34ca262f",
   "metadata": {},
   "outputs": [],
   "source": [
    "from sklearn.model_selection import train_test_split\n",
    "from sklearn.model_selection import KFold\n",
    "from sklearn.model_selection import cross_val_score\n",
    "from sklearn.multiclass import OneVsRestClassifier\n",
    "from sklearn.multiclass import OneVsOneClassifier\n",
    "\n",
    "# Train test split\n",
    "X_train, X_test, y_train, y_test = train_test_split(X, y, test_size=0.33, random_state=42, shuffle=True)"
   ]
  },
  {
   "cell_type": "markdown",
   "id": "d344f480-5b7d-430f-bb4d-b8f0106c821c",
   "metadata": {},
   "source": [
    "## Classification methods"
   ]
  },
  {
   "cell_type": "markdown",
   "id": "406c27bb-1add-4f70-9641-8e336b682795",
   "metadata": {},
   "source": [
    "### SVM (Support Vector Machine)"
   ]
  },
  {
   "cell_type": "code",
   "execution_count": null,
   "id": "e9e64bfb-8418-4d54-9347-1962c8c63538",
   "metadata": {},
   "outputs": [],
   "source": [
    "from sklearn.svm import SVC\n",
    "\n",
    "model = SVC()\n",
    "ovo = OneVsOneClassifier(model)\n",
    "# Extract the underlying NumPy array from the DataFrame and then use ravel()\n",
    "ovo.fit(X_train, y_train.values.ravel())"
   ]
  },
  {
   "cell_type": "code",
   "execution_count": null,
   "id": "a649aeb8-329b-4446-8908-c16d3d860096",
   "metadata": {},
   "outputs": [],
   "source": [
    "# predicting score using support vector machine\n",
    "prd=ovo.predict(X_test)"
   ]
  },
  {
   "cell_type": "code",
   "execution_count": null,
   "id": "119375f3-66ad-49bb-ad9c-331d9a73a9e5",
   "metadata": {},
   "outputs": [],
   "source": [
    "from sklearn.metrics import classification_report, confusion_matrix\n",
    "print(confusion_matrix(prd, y_test))"
   ]
  },
  {
   "cell_type": "code",
   "execution_count": null,
   "id": "210d3dfe-935c-4408-b478-55c06545f0c8",
   "metadata": {},
   "outputs": [],
   "source": [
    "# May come different on your device, depending on sklearn version or inbuilt random number that model assigns to training set\n",
    "print(classification_report(prd,y_test))"
   ]
  },
  {
   "cell_type": "markdown",
   "id": "ce743493-459c-4b34-9fed-d33d15306f9f",
   "metadata": {},
   "source": [
    "### Decision Tree"
   ]
  },
  {
   "cell_type": "code",
   "execution_count": null,
   "id": "bc47f592-de9f-4d5e-95c3-df2dca3ebd02",
   "metadata": {},
   "outputs": [],
   "source": [
    "from sklearn.tree import DecisionTreeClassifier\n",
    "dtree=DecisionTreeClassifier()\n",
    "\n",
    "ovo = OneVsOneClassifier(model)\n",
    "ovo.fit(X_train, y_train.values.ravel())"
   ]
  },
  {
   "cell_type": "code",
   "execution_count": null,
   "id": "b3aeb9f4-56a0-407f-b275-c04a73c82551",
   "metadata": {},
   "outputs": [],
   "source": [
    "# predicting score using decision tree\n",
    "pred=ovo.predict(X_test)\n",
    "print(classification_report(y_test, pred))"
   ]
  },
  {
   "cell_type": "markdown",
   "id": "8fd642eb-e730-49fc-9c77-7cf3e2179ec7",
   "metadata": {},
   "source": [
    "### Random Forest"
   ]
  },
  {
   "cell_type": "code",
   "execution_count": null,
   "id": "7ab9356f-d293-469a-8450-bdd0150aa554",
   "metadata": {},
   "outputs": [],
   "source": [
    "from sklearn.ensemble import RandomForestClassifier\n",
    "rd=RandomForestClassifier(n_estimators=200) # Can change value\n",
    "\n",
    "ovo = OneVsOneClassifier(model)\n",
    "ovo.fit(X_train, y_train.values.ravel())"
   ]
  },
  {
   "cell_type": "code",
   "execution_count": null,
   "id": "7dc09480-d353-4703-968d-bc315971f5e9",
   "metadata": {},
   "outputs": [],
   "source": [
    "# predicting score using random forest\n",
    "rd_pred=ovo.predict(X_test)\n",
    "print(classification_report(rd_pred, y_test))"
   ]
  },
  {
   "cell_type": "markdown",
   "id": "fb5797b0-9ca2-40a0-ab05-80aa01ef823a",
   "metadata": {},
   "source": [
    "### KNN (K-Nearest Neighbors)"
   ]
  },
  {
   "cell_type": "code",
   "execution_count": null,
   "id": "e5a9f7c5-0055-4a18-9bec-01eb9d3ab685",
   "metadata": {},
   "outputs": [],
   "source": [
    "from sklearn.neighbors import KNeighborsClassifier\n",
    "neigh = KNeighborsClassifier(n_neighbors=15)"
   ]
  },
  {
   "cell_type": "code",
   "execution_count": null,
   "id": "51a049e6-d64d-4e40-b330-38cc8dbf8bb5",
   "metadata": {},
   "outputs": [],
   "source": [
    "ovo = OneVsOneClassifier(neigh)\n",
    "ovo.fit(X_train, y_train.values.ravel())"
   ]
  },
  {
   "cell_type": "code",
   "execution_count": null,
   "id": "6af74575-9fc3-4053-82e2-c6d2487f4453",
   "metadata": {},
   "outputs": [],
   "source": [
    "# predicting score using K-Nearest Neighbors\n",
    "y_pred=ovo.predict(X_test)\n",
    "print(classification_report(y_pred, y_test))"
   ]
  },
  {
   "cell_type": "code",
   "execution_count": null,
   "id": "775f115d-d53e-4ff3-869a-9cecc320aaf7",
   "metadata": {},
   "outputs": [],
   "source": []
  }
 ],
 "metadata": {
  "kernelspec": {
   "display_name": "Python 3 (ipykernel)",
   "language": "python",
   "name": "python3"
  },
  "language_info": {
   "codemirror_mode": {
    "name": "ipython",
    "version": 3
   },
   "file_extension": ".py",
   "mimetype": "text/x-python",
   "name": "python",
   "nbconvert_exporter": "python",
   "pygments_lexer": "ipython3",
   "version": "3.10.7"
  }
 },
 "nbformat": 4,
 "nbformat_minor": 5
}
